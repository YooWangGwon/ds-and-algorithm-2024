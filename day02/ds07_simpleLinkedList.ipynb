{
 "cells": [
  {
   "cell_type": "code",
   "execution_count": 23,
   "metadata": {},
   "outputs": [],
   "source": [
    "# file : ds07_simpleLinkedList.ipynb\n",
    "# date : 20240213 \n",
    "# desc : 단순 연결 리스트 확습"
   ]
  },
  {
   "cell_type": "code",
   "execution_count": 24,
   "metadata": {},
   "outputs": [],
   "source": [
    "# 연결 리스트 노트 클래스\n",
    "\n",
    "class Node(): \n",
    "    # name, link 두개의 멤버변수 존재\n",
    "    # 생성자 추가\n",
    "    def __init__(self, name) -> None:\n",
    "        self.data = name\n",
    "        self.link = None"
   ]
  },
  {
   "cell_type": "code",
   "execution_count": 25,
   "metadata": {},
   "outputs": [
    {
     "name": "stdout",
     "output_type": "stream",
     "text": [
      "다현 None\n"
     ]
    }
   ],
   "source": [
    "node1 = Node('다현') \n",
    "print(node1.data,end=' ')\n",
    "print(node1.link)"
   ]
  },
  {
   "cell_type": "code",
   "execution_count": 26,
   "metadata": {},
   "outputs": [
    {
     "name": "stdout",
     "output_type": "stream",
     "text": [
      "None\n"
     ]
    }
   ],
   "source": [
    "print(node1.link)"
   ]
  },
  {
   "cell_type": "code",
   "execution_count": 27,
   "metadata": {},
   "outputs": [
    {
     "name": "stdout",
     "output_type": "stream",
     "text": [
      "정연 None\n"
     ]
    }
   ],
   "source": [
    "node2 = Node('정연')\n",
    "node1.link = node2\n",
    "print(node2.data, end=' ')\n",
    "print(node2.link)"
   ]
  },
  {
   "cell_type": "code",
   "execution_count": 28,
   "metadata": {},
   "outputs": [],
   "source": [
    "## 5개 노드를 연결리스트로 만들기\n",
    "node1 = Node('다현')\n",
    "\n",
    "node2 = Node('정현')\n",
    "node1.link = node2 # node1의 링크를 node2에 연결\n",
    "\n",
    "node3 = Node('쯔위')\n",
    "node2.link = node3\n",
    "\n",
    "node4 = Node('사나')\n",
    "node3.link = node4\n",
    "\n",
    "node5 = Node('지효')\n",
    "node4.link = node5"
   ]
  },
  {
   "cell_type": "code",
   "execution_count": 29,
   "metadata": {},
   "outputs": [
    {
     "name": "stdout",
     "output_type": "stream",
     "text": [
      "다현 -> 정현 -> 쯔위 -> 사나 -> 지효 : "
     ]
    }
   ],
   "source": [
    "print(node1.data, end = ' -> ') # node1\n",
    "print(node1.link.data, end = ' -> ') # node2\n",
    "print(node1.link.link.data, end = ' -> ') # node3\n",
    "print(node1.link.link.link.data, end = ' -> ') # node4\n",
    "print(node1.link.link.link.link.data, end = ' : ') # node5"
   ]
  },
  {
   "cell_type": "code",
   "execution_count": 30,
   "metadata": {},
   "outputs": [
    {
     "data": {
      "text/plain": [
       "['다현', '정연', '쯔위', '사나', '지효']"
      ]
     },
     "execution_count": 30,
     "metadata": {},
     "output_type": "execute_result"
    }
   ],
   "source": [
    "#파이썬의 리스트가 위와 동일한 구조로 만들어져있음\n",
    "friends = []\n",
    "friends.append('다현')\n",
    "friends.append('정연')\n",
    "friends.append('쯔위')\n",
    "friends.append('사나')\n",
    "friends.append('지효')\n",
    "friends"
   ]
  },
  {
   "cell_type": "code",
   "execution_count": 31,
   "metadata": {},
   "outputs": [],
   "source": [
    "## 새 노드 삽입\n",
    "newNode = Node('재남')\n",
    "newNode.link=node2.link\n",
    "node2.link = newNode"
   ]
  },
  {
   "cell_type": "code",
   "execution_count": 32,
   "metadata": {},
   "outputs": [
    {
     "name": "stdout",
     "output_type": "stream",
     "text": [
      "다현 -> 정현 -> 재남 -> 쯔위 -> 사나 -> 지효 -> "
     ]
    }
   ],
   "source": [
    "## 연결리스트 출력 방법\n",
    "current = node1\n",
    "print(current.data, end=' -> ')\n",
    "while current.link != None:\n",
    "    current = current.link # 내 노드 다음의 노드가 current가 됨\n",
    "    print(current.data, end = ' -> ')"
   ]
  },
  {
   "cell_type": "code",
   "execution_count": 33,
   "metadata": {},
   "outputs": [],
   "source": [
    "## 기존 노드 삭제(쯔위)\n",
    "\n",
    "newNode.link = node3.link"
   ]
  },
  {
   "cell_type": "code",
   "execution_count": 34,
   "metadata": {},
   "outputs": [
    {
     "name": "stdout",
     "output_type": "stream",
     "text": [
      "다현 -> 정현 -> 재남 -> 사나 -> 지효 -> "
     ]
    }
   ],
   "source": [
    "## 연결리스트 출력 방법\n",
    "current = node1\n",
    "print(current.data, end=' -> ')\n",
    "while current.link != None:\n",
    "    current = current.link # 내 노드 다음의 노드가 current가 됨\n",
    "    print(current.data, end = ' -> ')"
   ]
  },
  {
   "cell_type": "code",
   "execution_count": 41,
   "metadata": {},
   "outputs": [
    {
     "ename": "NameError",
     "evalue": "name 'node3' is not defined",
     "output_type": "error",
     "traceback": [
      "\u001b[1;31m---------------------------------------------------------------------------\u001b[0m",
      "\u001b[1;31mNameError\u001b[0m                                 Traceback (most recent call last)",
      "Cell \u001b[1;32mIn[41], line 2\u001b[0m\n\u001b[0;32m      1\u001b[0m \u001b[38;5;66;03m## 완벽한 삭제를 위해 node3을 없애줌\u001b[39;00m\n\u001b[1;32m----> 2\u001b[0m \u001b[38;5;28;01mdel\u001b[39;00m(\u001b[43mnode3\u001b[49m)\n",
      "\u001b[1;31mNameError\u001b[0m: name 'node3' is not defined"
     ]
    }
   ],
   "source": [
    "## 연결리스트에서 node3을 삭제하더라도 메모리상에는 node3이 존재\n",
    "## 완벽한 삭제를 위해 node3을 없애줌\n",
    "del(node3)"
   ]
  },
  {
   "cell_type": "markdown",
   "metadata": {},
   "source": [
    "### 선형리스트와 연결리스트의 비교\n",
    "- 선형리스트는 메모리 저장장소의 최적화는 있지만, 삽입이나 삭제시 처리시간에 대한 오버헤드는 존재\n",
    "- 연결리스트는 메모리상 공간 오버헤드(current, node.link)는 존재하지만, 삽입/삭제 처리시간은 최적화\n",
    "- 그래서 현대의 IT에서는 거의 선형리스트를 사용하지 않음"
   ]
  }
 ],
 "metadata": {
  "kernelspec": {
   "display_name": "Python 3",
   "language": "python",
   "name": "python3"
  },
  "language_info": {
   "codemirror_mode": {
    "name": "ipython",
    "version": 3
   },
   "file_extension": ".py",
   "mimetype": "text/x-python",
   "name": "python",
   "nbconvert_exporter": "python",
   "pygments_lexer": "ipython3",
   "version": "3.11.5"
  }
 },
 "nbformat": 4,
 "nbformat_minor": 2
}
