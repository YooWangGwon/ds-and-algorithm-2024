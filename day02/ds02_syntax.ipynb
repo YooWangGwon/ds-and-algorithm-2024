{
 "cells": [
  {
   "cell_type": "code",
   "execution_count": null,
   "metadata": {},
   "outputs": [],
   "source": [
    "# file : ds02_syntax.ipynb\n",
    "# date : 20240213\n",
    "# desc : 파이썬 기촉 복습"
   ]
  },
  {
   "cell_type": "markdown",
   "metadata": {},
   "source": [
    "## 자료구조와 알고리즘\n",
    "\n",
    "- 파이썬 기초문법 복습\n",
    "\n",
    "### 1. 리스트 컨프리헨션(함축)"
   ]
  },
  {
   "cell_type": "code",
   "execution_count": null,
   "metadata": {},
   "outputs": [],
   "source": [
    "nums = []\n",
    "for i in range (1,6): # 1, 2, 3, 4, 5 # 반복문으로\n",
    "    nums.append(i)\n",
    "\n",
    "nums"
   ]
  },
  {
   "cell_type": "code",
   "execution_count": null,
   "metadata": {},
   "outputs": [],
   "source": [
    "nums = list(range(1,6)) # 클래스로 생성\n",
    "nums"
   ]
  },
  {
   "cell_type": "code",
   "execution_count": null,
   "metadata": {},
   "outputs": [],
   "source": [
    "nums = [i for i in range(1,6)] # 리스트 함축\n",
    "nums"
   ]
  },
  {
   "cell_type": "code",
   "execution_count": null,
   "metadata": {},
   "outputs": [],
   "source": [
    "nums = [i * i for i in range(1,7)]\n",
    "nums"
   ]
  },
  {
   "cell_type": "code",
   "execution_count": 13,
   "metadata": {},
   "outputs": [
    {
     "data": {
      "text/plain": [
       "[1, 4, 9, 16, 25]"
      ]
     },
     "execution_count": 13,
     "metadata": {},
     "output_type": "execute_result"
    }
   ],
   "source": [
    "nums = []\n",
    "for i in range(1,6):\n",
    "    nums.append(i*i)\n",
    "\n",
    "nums"
   ]
  },
  {
   "cell_type": "code",
   "execution_count": 15,
   "metadata": {},
   "outputs": [
    {
     "data": {
      "text/plain": [
       "[3, 6, 9, 12, 15, 18]"
      ]
     },
     "execution_count": 15,
     "metadata": {},
     "output_type": "execute_result"
    }
   ],
   "source": [
    "nums = []\n",
    "nums = [i for i in range(1,21) if i % 3 == 0] # 3의 배수만 리스트로\n",
    "\n",
    "nums"
   ]
  },
  {
   "cell_type": "code",
   "execution_count": 19,
   "metadata": {},
   "outputs": [
    {
     "data": {
      "text/plain": [
       "[[0, 1, 2, 3], [0, 1, 2, 3], [0, 1, 2, 3]]"
      ]
     },
     "execution_count": 19,
     "metadata": {},
     "output_type": "execute_result"
    }
   ],
   "source": [
    "# 2차원 리스트\n",
    "nums2 = [[i for i in range(4)] for j in range(3)] # [[열, 안쪽값]행]\n",
    "nums2"
   ]
  },
  {
   "cell_type": "markdown",
   "metadata": {},
   "source": [
    "### 세트"
   ]
  },
  {
   "cell_type": "code",
   "execution_count": 20,
   "metadata": {},
   "outputs": [
    {
     "data": {
      "text/plain": [
       "{1, 2, 3}"
      ]
     },
     "execution_count": 20,
     "metadata": {},
     "output_type": "execute_result"
    }
   ],
   "source": [
    "myset = {1 ,2 ,3 ,3 ,2 ,1} # 집합은 같은수(값)는 중복 제거\n",
    "myset"
   ]
  },
  {
   "cell_type": "markdown",
   "metadata": {},
   "source": [
    "### 로또번호 생성기"
   ]
  },
  {
   "cell_type": "code",
   "execution_count": 21,
   "metadata": {},
   "outputs": [],
   "source": [
    "import random"
   ]
  },
  {
   "cell_type": "code",
   "execution_count": 22,
   "metadata": {},
   "outputs": [],
   "source": [
    "# 전역변수 선언\n",
    "totalLotto = [] # 최종 로또번호 저장(2차원 리스트)\n",
    "lotto = [] # 한 회별 로또 번호 저장(1차원 리스트)\n",
    "pickNum = 0\n",
    "count = 0"
   ]
  },
  {
   "cell_type": "code",
   "execution_count": 26,
   "metadata": {},
   "outputs": [
    {
     "name": "stdout",
     "output_type": "stream",
     "text": [
      "로또번호 생성 시작\n",
      "로또번호 생성 완료\n"
     ]
    }
   ],
   "source": [
    "print('로또번호 생성 시작')\n",
    "totalLotto = [] # 로또 결과 리스트 초기화\n",
    "count = int(input('뽑을 횟수 입력 > '))\n",
    "for _ in range(count): # (기존 i위치에 있는) _ : 반복되는 숫자를 사용하지 않겠다는 뜻\n",
    "    lotto = [] # 초기화\n",
    "    while True: # 무한 반복\n",
    "        pickNum = random.randint(1, 45) # 1부터 45 사이의 수를 저장\n",
    "        if pickNum not in lotto: # 랜덤으로 뽑은 숫자가 이미 있을 경우(뽑았을 경우)는 패스. 없을 경우에만 진행\n",
    "            lotto.append(pickNum)\n",
    "        else:\n",
    "            continue # 반복문이 여러개 있으면 자신이 속한 부분만 다시 반복\n",
    "        if len(lotto) >= 6: # 숫자를 6개 뽑았으면\n",
    "            break # 반복문이 여러개 있으면 자신이 속한 반복문만 빠져나감(while True문만 종료. for문 종료X)\n",
    "    \n",
    "    totalLotto.append(lotto) # 뽑은 숫자들을 totalLotto에 추가\n",
    "\n",
    "print('로또번호 생성 완료')"
   ]
  },
  {
   "cell_type": "code",
   "execution_count": 28,
   "metadata": {},
   "outputs": [
    {
     "name": "stdout",
     "output_type": "stream",
     "text": [
      "로또번호 >  07 14 18 19 25 27 \n",
      "로또번호 >  14 18 26 28 32 42 \n",
      "로또번호 >  07 09 20 26 39 42 \n",
      "로또번호 >  05 07 10 26 32 45 \n",
      "로또번호 >  01 07 16 19 23 28 \n"
     ]
    }
   ],
   "source": [
    "for item in totalLotto: # 이 for문의 lotto는 지역변수\n",
    "    item.sort() # 정렬\n",
    "    print('로또번호 > ', end = ' ')\n",
    "    for i in item:\n",
    "        print(f'{i:02d}', end = ' ') # 무조건 2자리로 출력\n",
    "\n",
    "    print()"
   ]
  }
 ],
 "metadata": {
  "kernelspec": {
   "display_name": "Python 3",
   "language": "python",
   "name": "python3"
  },
  "language_info": {
   "codemirror_mode": {
    "name": "ipython",
    "version": 3
   },
   "file_extension": ".py",
   "mimetype": "text/x-python",
   "name": "python",
   "nbconvert_exporter": "python",
   "pygments_lexer": "ipython3",
   "version": "3.11.5"
  }
 },
 "nbformat": 4,
 "nbformat_minor": 2
}
