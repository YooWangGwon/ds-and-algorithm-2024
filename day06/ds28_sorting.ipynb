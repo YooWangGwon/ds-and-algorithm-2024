{
 "cells": [
  {
   "cell_type": "code",
   "execution_count": 3,
   "metadata": {},
   "outputs": [],
   "source": [
    "# file : ds28_sorting.ipynb\n",
    "# date : 20240219\n",
    "# desc : 각 정렬 알고리즘 학습 노트북"
   ]
  },
  {
   "cell_type": "markdown",
   "metadata": {},
   "source": [
    "## 자료구조와 알고리즘\n",
    "\n",
    "- 정렬\n",
    "###  선택정렬 Selection Sort"
   ]
  },
  {
   "cell_type": "code",
   "execution_count": 4,
   "metadata": {},
   "outputs": [],
   "source": [
    "def FindMinIdx(ary):\n",
    "    minIdx = 0 # ary[0]의 값이 최소\n",
    "    \n",
    "    for i in range(1, len(ary)):\n",
    "        if (ary[minIdx] > ary[i]): # ary[0]의 값이 최소값이 아닌경우\n",
    "            minIdx = i\n",
    "\n",
    "    return minIdx"
   ]
  },
  {
   "cell_type": "code",
   "execution_count": 5,
   "metadata": {},
   "outputs": [
    {
     "name": "stdout",
     "output_type": "stream",
     "text": [
      "최소값 인덱스4/최소값22\n"
     ]
    }
   ],
   "source": [
    "testAry = [55,88,99,33,22,77]\n",
    "minPos = FindMinIdx(testAry)\n",
    "print(f'최소값 인덱스{minPos}/최소값{testAry[minPos]}')"
   ]
  },
  {
   "cell_type": "code",
   "execution_count": 6,
   "metadata": {},
   "outputs": [],
   "source": [
    "before= [188, 162, 120, 50, 150, 105]\n",
    "after = []"
   ]
  },
  {
   "cell_type": "code",
   "execution_count": 7,
   "metadata": {},
   "outputs": [
    {
     "name": "stdout",
     "output_type": "stream",
     "text": [
      "정렬전 -> [188, 162, 120, 50, 150, 105]\n"
     ]
    }
   ],
   "source": [
    "print(f'정렬전 -> {before}')"
   ]
  },
  {
   "cell_type": "code",
   "execution_count": 8,
   "metadata": {},
   "outputs": [],
   "source": [
    "for _ in range(len(before)):\n",
    "    minPos = FindMinIdx(before)\n",
    "    after.append(before[minPos])\n",
    "    del before [minPos]"
   ]
  },
  {
   "cell_type": "code",
   "execution_count": 9,
   "metadata": {},
   "outputs": [
    {
     "name": "stdout",
     "output_type": "stream",
     "text": [
      "정렬후 -> [50, 105, 120, 150, 162, 188]\n"
     ]
    }
   ],
   "source": [
    "print(f'정렬후 -> {after}')"
   ]
  },
  {
   "cell_type": "markdown",
   "metadata": {},
   "source": [
    "#### 개선된 선택정렬"
   ]
  },
  {
   "cell_type": "code",
   "execution_count": 18,
   "metadata": {},
   "outputs": [],
   "source": [
    "def selectionSort(ary):\n",
    "    n = len(ary)\n",
    "    for i in range(0, n-1):\n",
    "        minIdx = i\n",
    "        for k in range(i+1, n):\n",
    "            if ary[minIdx] > ary[k]:\n",
    "                minIdx = k\n",
    "\n",
    "        tmp = ary[i] # 원래 있던 (최초 0)\n",
    "        ary[i] = ary[minIdx] # minIdx에 있는 최소값을 가져옴\n",
    "        ary[minIdx] = tmp\n",
    "\n",
    "    return ary"
   ]
  },
  {
   "cell_type": "code",
   "execution_count": 11,
   "metadata": {},
   "outputs": [],
   "source": [
    "dataAry = [188, 162, 168, 120, 50, 150, 177, 105]"
   ]
  },
  {
   "cell_type": "code",
   "execution_count": 19,
   "metadata": {},
   "outputs": [
    {
     "name": "stdout",
     "output_type": "stream",
     "text": [
      "정렬전 -> [50, 105, 120, 150, 162, 168, 177, 188]\n",
      "정렬후 -> [50, 105, 120, 150, 162, 168, 177, 188]\n"
     ]
    }
   ],
   "source": [
    "print(f'정렬전 -> {dataAry}')\n",
    "selectionSort(dataAry)\n",
    "print(f'정렬후 -> {dataAry}')"
   ]
  },
  {
   "cell_type": "markdown",
   "metadata": {},
   "source": [
    "### 삽입정렬 Insertion Sort\n",
    "- 시간 복잡도 : O(n^2) 그리 좋진 않다."
   ]
  },
  {
   "cell_type": "code",
   "execution_count": 20,
   "metadata": {},
   "outputs": [],
   "source": [
    "# 배열에서 자신이 삽입될 위치를 찾는 함수\n",
    "def findInsertIdx(ary, data):\n",
    "    findIdx = -1 # 초기값은 없는 위치 : 파이썬에서 -1은 리스트의 제일 마지막이라는 뜻이지만 다른언어에서는 -1이 데이터 없음을 의미\n",
    "\n",
    "    for i in range(0, len(ary)):\n",
    "        if ary[i] > data:\n",
    "            findIdx = i\n",
    "            break\n",
    "\n",
    "    if findIdx == -1: # 자신보다 작은 값을 찾지 못했을 경우\n",
    "        return len(ary) # 리스트 맨 마지막에 위치\n",
    "    \n",
    "    else:\n",
    "        return findIdx"
   ]
  },
  {
   "cell_type": "code",
   "execution_count": 23,
   "metadata": {},
   "outputs": [
    {
     "name": "stdout",
     "output_type": "stream",
     "text": [
      "index위치 : 0\n"
     ]
    }
   ],
   "source": [
    "testAry = []\n",
    "print(f'index위치 : {findInsertIdx(testAry, 55)}') # 0 : 아무것도 없기 때문"
   ]
  },
  {
   "cell_type": "code",
   "execution_count": 32,
   "metadata": {},
   "outputs": [
    {
     "name": "stdout",
     "output_type": "stream",
     "text": [
      "index위치 : 1\n"
     ]
    }
   ],
   "source": [
    "testAry = [33, 77, 88]\n",
    "print(f'index위치 : {findInsertIdx(testAry, 55)}') # 1 : 자신보다 작은 값이 있기 때문"
   ]
  },
  {
   "cell_type": "code",
   "execution_count": 33,
   "metadata": {},
   "outputs": [
    {
     "data": {
      "text/plain": [
       "[33, 55, 77, 88]"
      ]
     },
     "execution_count": 33,
     "metadata": {},
     "output_type": "execute_result"
    }
   ],
   "source": [
    "testAry.insert(1,55)\n",
    "testAry"
   ]
  },
  {
   "cell_type": "code",
   "execution_count": 30,
   "metadata": {},
   "outputs": [
    {
     "name": "stdout",
     "output_type": "stream",
     "text": [
      "index위치 : 4\n"
     ]
    }
   ],
   "source": [
    "testAry = [33, 55, 77, 88]\n",
    "print(f'index위치 : {findInsertIdx(testAry, 100)}') # 4 : 자신보다 큰 값이 없기 때문"
   ]
  },
  {
   "cell_type": "markdown",
   "metadata": {},
   "source": [
    "#### 최종삽입정렬\n",
    "- 시간 복잡도 : O(n^2) 역시 좋진 않다."
   ]
  },
  {
   "cell_type": "code",
   "execution_count": 54,
   "metadata": {},
   "outputs": [],
   "source": [
    "def insertionSort(ary):\n",
    "    n = len(ary)\n",
    "    for end in range(1,n): # 앞에서 뒤로\n",
    "        for cur in range(end, 0, -1): # 뒤에서 앞으로\n",
    "            if ary[cur-1] > ary[cur]:\n",
    "                tmp = ary[cur]\n",
    "                ary[cur] = ary[cur-1]\n",
    "                ary[cur-1] = tmp\n",
    "\n",
    "    return ary"
   ]
  },
  {
   "cell_type": "code",
   "execution_count": 41,
   "metadata": {},
   "outputs": [],
   "source": [
    "dataAry = [188, 162, 168, 120, 50, 150, 177, 105]"
   ]
  },
  {
   "cell_type": "code",
   "execution_count": 36,
   "metadata": {},
   "outputs": [
    {
     "name": "stdout",
     "output_type": "stream",
     "text": [
      "삽입 정렬 전:[188, 162, 168, 120, 50, 150, 177, 105]\n"
     ]
    }
   ],
   "source": [
    "print(f'삽입 정렬 전:{dataAry}')"
   ]
  },
  {
   "cell_type": "code",
   "execution_count": 55,
   "metadata": {},
   "outputs": [
    {
     "name": "stdout",
     "output_type": "stream",
     "text": [
      "삽입정렬 후 : [50, 105, 120, 150, 162, 168, 177, 188]\n"
     ]
    }
   ],
   "source": [
    "dataAry = insertionSort(dataAry)\n",
    "print(f'삽입정렬 후 : {dataAry}')"
   ]
  },
  {
   "cell_type": "markdown",
   "metadata": {},
   "source": [
    "### 버블정렬(Bubble Sort)\n",
    "\n",
    "- 시간복잡도 : O(n^2) 이전과 동일\n",
    "    - 단, 정렬이 어느정도 되어있는 데이터라면 연산수가 급격하게 줄어듬\n",
    "    - 그닥 좋진 않다"
   ]
  },
  {
   "cell_type": "code",
   "execution_count": 52,
   "metadata": {},
   "outputs": [],
   "source": [
    "def bubbleSort(ary):\n",
    "    n = len(ary)\n",
    "    for end in range(n-1, 0, -1): # 7부터 1까지 역순\n",
    "        for cur in range(0, end): # 0부터 6까지 순차\n",
    "            if ary[cur] > ary[cur+1]: # 앞의 값이 뒤의 값보다 크면 뒤로 보냄, 큰 수가 점점 뒤로 옮겨짐\n",
    "                tmp = ary[cur]\n",
    "                ary[cur] = ary[cur+1]\n",
    "                ary[cur+1] = tmp\n",
    "    return ary"
   ]
  },
  {
   "cell_type": "code",
   "execution_count": 44,
   "metadata": {},
   "outputs": [],
   "source": [
    "dataAry = [188, 162, 168, 120, 50, 150, 177, 105]"
   ]
  },
  {
   "cell_type": "code",
   "execution_count": 50,
   "metadata": {},
   "outputs": [
    {
     "name": "stdout",
     "output_type": "stream",
     "text": [
      "버블 정렬 전 : [188, 162, 168, 120, 50, 150, 177, 105]\n"
     ]
    }
   ],
   "source": [
    "print(f'버블 정렬 전 : {dataAry}')"
   ]
  },
  {
   "cell_type": "code",
   "execution_count": 53,
   "metadata": {},
   "outputs": [
    {
     "name": "stdout",
     "output_type": "stream",
     "text": [
      "버블정렬 후 : [50, 105, 120, 150, 162, 168, 177, 188]\n"
     ]
    }
   ],
   "source": [
    "dataAry = bubbleSort(dataAry)\n",
    "print(f'버블정렬 후 : {dataAry}')"
   ]
  },
  {
   "cell_type": "markdown",
   "metadata": {},
   "source": [
    "### 퀵 정렬(Quick Sort)\n",
    "\n",
    "- 기준값(중앙값)을 기준으로 왼쪽그룹과 오른쪽 그룹으로 나눠서 분리한 뒤 다시 정렬하는 방법\n",
    "- 시간복잡도 : Best, Normal -> O(nlog2n), Worst -> O(n^2)"
   ]
  },
  {
   "cell_type": "code",
   "execution_count": 62,
   "metadata": {},
   "outputs": [],
   "source": [
    "def quickSort(ary):\n",
    "    n = len(ary)\n",
    "    if n <= 1: return ary # 정렬할 리스트의 값이 1개 이하면 정렬필요 없음\n",
    "\n",
    "    pivot = ary[n // 2] # 기준값(중앙값)\n",
    "    leftAry, rightAry = [], []\n",
    "\n",
    "    for data in ary:\n",
    "        if data < pivot: # 기준값보다 작을 경우\n",
    "            leftAry.append(data) # 왼쪽 그룹에 넣는다\n",
    "        elif data == pivot: # 기준값과 같을 경우\n",
    "            pass # 건너뛰기\n",
    "        else: # 기준값보다 클 경우\n",
    "            rightAry.append(data) # 오른쪽 그룹에 넣는다\n",
    "\n",
    "    return quickSort(leftAry) + [pivot] + quickSort(rightAry) # 위 작업들을 재귀호출"
   ]
  },
  {
   "cell_type": "code",
   "execution_count": 63,
   "metadata": {},
   "outputs": [
    {
     "name": "stdout",
     "output_type": "stream",
     "text": [
      "퀵 정렬 전 : [188, 150, 168, 162, 105, 120, 177, 50]\n"
     ]
    }
   ],
   "source": [
    "dataAry = [188, 150, 168, 162, 105, 120, 177, 50]\n",
    "print(f'퀵 정렬 전 : {dataAry}')"
   ]
  },
  {
   "cell_type": "code",
   "execution_count": 65,
   "metadata": {},
   "outputs": [
    {
     "name": "stdout",
     "output_type": "stream",
     "text": [
      "퀵 정렬 후 : [50, 105, 120, 150, 162, 168, 177, 188]\n"
     ]
    }
   ],
   "source": [
    "dataAry = quickSort(dataAry)\n",
    "print(f'퀵 정렬 후 : {dataAry}')"
   ]
  },
  {
   "cell_type": "code",
   "execution_count": 77,
   "metadata": {},
   "outputs": [],
   "source": [
    "def qSort(arr, start, end):\n",
    "    if end <= start: return\n",
    "\n",
    "    low = start\n",
    "    high = end\n",
    "    pivot = arr[(low+high) // 2] # 작은값은 왼쪽, 큰 값은 오른쪽\n",
    "    while low <= high:\n",
    "        while arr[low] < pivot:\n",
    "            low += 1\n",
    "        while arr[high] > pivot:\n",
    "            high -= 1\n",
    "        \n",
    "        if low <= high:\n",
    "            tmp = arr[low]\n",
    "            arr[low] = arr[high]\n",
    "            arr[high] = tmp\n",
    "            low += 1\n",
    "            high -= 1\n",
    "\n",
    "    mid = low\n",
    "    qSort(arr, start, mid-1)\n",
    "    qSort(arr, mid,end)"
   ]
  },
  {
   "cell_type": "code",
   "execution_count": 75,
   "metadata": {},
   "outputs": [],
   "source": [
    "def quickSort2(ary):\n",
    "    qSort(ary, 0, len(ary)-1)"
   ]
  },
  {
   "cell_type": "code",
   "execution_count": 80,
   "metadata": {},
   "outputs": [],
   "source": [
    "dataAry = [188, 150, 168, 162, 105, 120, 177, 50]"
   ]
  },
  {
   "cell_type": "code",
   "execution_count": 81,
   "metadata": {},
   "outputs": [
    {
     "name": "stdout",
     "output_type": "stream",
     "text": [
      "퀵 정렬 후 : [50, 105, 120, 150, 162, 168, 177, 188]\n"
     ]
    }
   ],
   "source": [
    "quickSort2(dataAry)\n",
    "print(f'퀵 정렬 후 : {dataAry}')"
   ]
  }
 ],
 "metadata": {
  "kernelspec": {
   "display_name": "Python 3",
   "language": "python",
   "name": "python3"
  },
  "language_info": {
   "codemirror_mode": {
    "name": "ipython",
    "version": 3
   },
   "file_extension": ".py",
   "mimetype": "text/x-python",
   "name": "python",
   "nbconvert_exporter": "python",
   "pygments_lexer": "ipython3",
   "version": "3.11.5"
  }
 },
 "nbformat": 4,
 "nbformat_minor": 2
}
